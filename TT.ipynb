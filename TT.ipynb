{
  "nbformat": 4,
  "nbformat_minor": 0,
  "metadata": {
    "colab": {
      "provenance": [],
      "toc_visible": true,
      "authorship_tag": "ABX9TyMZrD+RHZDQqtg+bchB+8k5",
      "include_colab_link": true
    },
    "kernelspec": {
      "name": "python3",
      "display_name": "Python 3"
    },
    "language_info": {
      "name": "python"
    }
  },
  "cells": [
    {
      "cell_type": "markdown",
      "metadata": {
        "id": "view-in-github",
        "colab_type": "text"
      },
      "source": [
        "<a href=\"https://colab.research.google.com/github/Harshavardhannadiveedi/DriveNow-frontend-project-/blob/main/TT.ipynb\" target=\"_parent\"><img src=\"https://colab.research.google.com/assets/colab-badge.svg\" alt=\"Open In Colab\"/></a>"
      ]
    },
    {
      "cell_type": "code",
      "source": [
        "#1. Write a program that accepts a sentence and calculate the number of letters and digits.\n",
        "sentence = input(\"Enter a sentence: \")\n",
        "letters = 0\n",
        "digits = 0\n",
        "for char in sentence:\n",
        "    if char.isalpha():\n",
        "        letters += 1\n",
        "    elif char.isdigit():\n",
        "        digits += 1\n",
        "print(\"LETTERS\", letters)\n",
        "print(\"DIGITS\", digits)"
      ],
      "metadata": {
        "colab": {
          "base_uri": "https://localhost:8080/"
        },
        "id": "kq0BPepojQRH",
        "outputId": "5e901cc7-5bda-44b7-e3c9-69f367f37fe7"
      },
      "execution_count": 1,
      "outputs": [
        {
          "output_type": "stream",
          "name": "stdout",
          "text": [
            "Enter a sentence: hello world! 123\n",
            "LETTERS 10\n",
            "DIGITS 3\n"
          ]
        }
      ]
    },
    {
      "cell_type": "code",
      "source": [
        "#2. Write a program that accepts a sentence and calculate the number of upper case letters and lower case letters.\n",
        "sentence = input(\"Enter a sentence: \")\n",
        "Upper = 0\n",
        "Lower = 0\n",
        "for char in sentence:\n",
        "    if char.isupper():\n",
        "        Upper += 1\n",
        "    elif char.islower():\n",
        "        Lower += 1\n",
        "print(\"Upper:\", Upper)\n",
        "print(\"Lower:\", Lower)"
      ],
      "metadata": {
        "colab": {
          "base_uri": "https://localhost:8080/"
        },
        "id": "wIhhVuDHjcpm",
        "outputId": "1f8d9268-0c5e-4f5d-f1eb-d8568c7db48b"
      },
      "execution_count": 2,
      "outputs": [
        {
          "output_type": "stream",
          "name": "stdout",
          "text": [
            "Enter a sentence: Hello world!\n",
            "Upper: 1\n",
            "Lower: 9\n"
          ]
        }
      ]
    },
    {
      "cell_type": "code",
      "source": [
        "net_amount = 0\n",
        "while True:\n",
        "    try:\n",
        "        transaction = input().split()\n",
        "        if not transaction:\n",
        "            break\n",
        "        type, amount = transaction[0], int(transaction[1])\n",
        "        if type == 'D':\n",
        "            net_amount += amount\n",
        "        elif type == 'W':\n",
        "            net_amount -= amount\n",
        "        else:\n",
        "            print(\"Invalid transaction type\")\n",
        "    except (ValueError, IndexError):\n",
        "        print(\"Invalid input format\")\n",
        "net_amount"
      ],
      "metadata": {
        "colab": {
          "base_uri": "https://localhost:8080/"
        },
        "id": "qlfkqIjykSk6",
        "outputId": "082788d7-cca5-4889-db5a-6a0ac064dfde"
      },
      "execution_count": 5,
      "outputs": [
        {
          "output_type": "stream",
          "name": "stdout",
          "text": [
            "D 200\n",
            "['D', '200']\n",
            "\n",
            "[]\n"
          ]
        },
        {
          "output_type": "execute_result",
          "data": {
            "text/plain": [
              "200"
            ]
          },
          "metadata": {},
          "execution_count": 5
        }
      ]
    },
    {
      "cell_type": "code",
      "source": [
        "import re\n",
        "def check_password(password):\n",
        "    if 6 <= len(password) <= 12:\n",
        "        if re.search(\"[a-z]\", password) and re.search(\"[A-Z]\", password) and re.search(\"[0-9]\", password) and re.search(\"[$#@]\", password):\n",
        "            return True\n",
        "    return False\n",
        "passwords = input(\"Enter comma separated passwords: \").split(',')\n",
        "valid_passwords = []\n",
        "for password in passwords:\n",
        "    password = password.strip()\n",
        "    if check_password(password):\n",
        "        valid_passwords.append(password)\n",
        "print(\",\".join(valid_passwords))\n"
      ],
      "metadata": {
        "colab": {
          "base_uri": "https://localhost:8080/"
        },
        "id": "MUDYTKWQltIu",
        "outputId": "1677358d-a463-47e0-ad58-30192d28e6f9"
      },
      "execution_count": 6,
      "outputs": [
        {
          "output_type": "stream",
          "name": "stdout",
          "text": [
            "Enter comma separated passwords: ABd1234@1,a F1#,2w3E*,2We3345,July@7705\n",
            "ABd1234@1,July@7705\n"
          ]
        }
      ]
    },
    {
      "cell_type": "code",
      "source": [],
      "metadata": {
        "id": "rczfCcmSrXzp"
      },
      "execution_count": null,
      "outputs": []
    },
    {
      "cell_type": "code",
      "source": [
        "\n",
        "import math\n",
        "\n",
        "x, y = 0, 0\n",
        "while True:\n",
        "    try:\n",
        "        line = input().split()\n",
        "        if not line:\n",
        "            break\n",
        "        direction, steps = line[0], int(line[1])\n",
        "        if direction == \"UP\":\n",
        "            y += steps\n",
        "        elif direction == \"DOWN\":\n",
        "            y -= steps\n",
        "        elif direction == \"LEFT\":\n",
        "            x -= steps\n",
        "        elif direction == \"RIGHT\":\n",
        "            x += steps\n",
        "        else:\n",
        "            print(\"Invalid direction\")\n",
        "    except (ValueError, IndexError):\n",
        "        print(\"Invalid input format\")\n",
        "\n",
        "distance = math.sqrt(x**2 + y**2)\n",
        "print(int(round(distance)))\n"
      ],
      "metadata": {
        "id": "GL7dm-qRpc5U"
      },
      "execution_count": null,
      "outputs": []
    }
  ]
}